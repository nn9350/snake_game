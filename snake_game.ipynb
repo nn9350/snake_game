{
  "nbformat": 4,
  "nbformat_minor": 0,
  "metadata": {
    "colab": {
      "provenance": []
    },
    "kernelspec": {
      "name": "python3",
      "display_name": "Python 3"
    },
    "language_info": {
      "name": "python"
    }
  },
  "cells": [
    {
      "cell_type": "code",
      "source": [
        "!pip install pygame"
      ],
      "metadata": {
        "colab": {
          "base_uri": "https://localhost:8080/"
        },
        "id": "cPwDvNAS1M4p",
        "outputId": "fa4d39f0-e3e2-4e8e-f9f5-503ef040a841"
      },
      "execution_count": null,
      "outputs": [
        {
          "output_type": "stream",
          "name": "stdout",
          "text": [
            "Requirement already satisfied: pygame in /usr/local/lib/python3.10/dist-packages (2.5.1)\n"
          ]
        }
      ]
    },
    {
      "cell_type": "code",
      "source": [
        "import pygame\n",
        "pygame.init()\n",
        "dis= pygame.display.set_mode((600,400))\n",
        "pygame.display.set_caption(\"Snake game by Nandhini\")\n",
        "pygame.display.update()\n",
        "game_over=False\n",
        "while(game_over==False):\n",
        "  pygame.display.update()\n",
        "  for event in pygame.event.get():\n",
        "    if event.type==pygame.QUIT:\n",
        "      game_over=True\n",
        "pygame.quit()"
      ],
      "metadata": {
        "id": "NjZRhvCt2LsZ"
      },
      "execution_count": null,
      "outputs": []
    },
    {
      "cell_type": "markdown",
      "source": [
        "Draw Module and RGB"
      ],
      "metadata": {
        "id": "w-ZPhsvp3zjK"
      }
    },
    {
      "cell_type": "code",
      "source": [
        "from re import X\n",
        "import pygame\n",
        "import random\n",
        "pygame.init()\n",
        "\n",
        "\n",
        "bg=(150,150,150)\n",
        "h= (255,150,20)\n",
        "body=(0,200,255)\n",
        "fo=(0,200,255)\n",
        "sc=(255,150,20)\n",
        "red=(213,50,80)\n",
        "outer=(100,100,200)\n",
        "\n",
        "dis_width=600\n",
        "dis_hwidth=300\n",
        "dis_height=400\n",
        "dis_hheight=200\n",
        "\n",
        "dis= pygame.display.set_mode((dis_width,dis_height))\n",
        "pygame.display.set_caption(\"Practice Snake game by Nandhini(not original :'))\")\n",
        "clock=pygame.time.Clock()\n",
        "\n",
        "snake_block=10\n",
        "snake_speed=15\n",
        "\n",
        "font_style= pygame.font.sysFont(\"bahnschrift\",25)\n",
        "score_font= pygame.font.sysFont(\"freesans\",35)\n",
        "\n",
        "def thescore(score):\n",
        "  value = score_font.render(\"Your Score: \"+str(score), True,sc)\n",
        "  dis.blit(value,[0,0])\n",
        "\n",
        "def our_snake(snake_block,snake_list):\n",
        "  pygame.draw.rect(dis,outer,[int(snake_list[-1][0]),int(snake_list[-1][1]),snake_block,snake_block])\n",
        "  pygame.draw.rect(dis,h,[int(snake_list[-1][0]),int(snake_list[-1][1]),snake_block-2,snake_block-2])\n",
        "  for x in snake_list[0:-1]:\n",
        "    pygame.draw.rect(dis,outer,[int(x[0]),int(x[1]),snake_block,snake_block])\n",
        "    pygame.draw.rect(dis,body,[int(x[0]),int(x[1]),snake_block-2,snake_block-2])\n",
        "\n",
        "def message(msg,color):\n",
        "  mesg = font_style.render(msg, True, color)\n",
        "  dis.blit(mesg,[int(dis_width/6),int(dis_height/3)])\n",
        "\n",
        "\n",
        "def gameLoop():\n",
        "  game_over = False\n",
        "  game_close = False\n",
        "  x1 = dis_width/2\n",
        "  y1 = dis_height/2\n",
        "  x1_change = 0\n",
        "  y1_change = 0\n",
        "  snake_List =[]\n",
        "  Length_of_snake=1\n",
        "  foodx=snake_block*random.randint(0,(dis_width/snake_block)-1)\n",
        "  foody=snake_block*random.randint(0,(dis_height/snake_block)-1)\n",
        "\n",
        "  while(game_over == False):\n",
        "    while game_close == True:\n",
        "      dis.fill(bg)\n",
        "      message(\"You Lost! Press P-Play Again or Q-Quit\", red)\n",
        "      thescore(Length_of_snake -1)\n",
        "      pygame.display.update()\n",
        "      for event in pygame.event.get():\n",
        "        if event.type == pygame.QUIT:\n",
        "          game_over = True\n",
        "          game_close= False\n",
        "        if event.type == pygame.KEYDOWN:\n",
        "          if event.key == pygame.K_q:\n",
        "            game_over= True\n",
        "            game_close= False\n",
        "          if event.key==pygame.K_p:\n",
        "            gameLoop()\n",
        "    for event in pygame.event.get():\n",
        "      if event.type ==pygame.QUIT:\n",
        "        game_over= True\n",
        "      if event.type ==pygame.KEYDOWN:\n",
        "        if event.type.key==pygame.K_LEFT:\n",
        "          x1_change = -snake_block\n",
        "          y1_change = 0\n",
        "        elif event.key == pygame.K_RIGHT :\n",
        "          x1_change= snake_block\n",
        "          y1_change=0\n",
        "        elif event.key == pygame.K_UP:\n",
        "          y1_change=-snake_block\n",
        "          x1_change=0\n",
        "        elif event.key == pygame.K_DOWN:\n",
        "          y1_change=snake_block\n",
        "          x1_change=0\n",
        "    if x1>=dis_width or x1<0 or y1>=dis_height or y1<0:\n",
        "      game_close= True\n",
        "\n",
        "    x1+=x1_change\n",
        "    y1+=y1_change\n",
        "    dis.fill(bg)\n",
        "    pygame.draw.rect(dis,fo,[foody,snake_block,snake_block])\n",
        "    snake_Head=[]\n",
        "    snake_Head.append(x1)\n",
        "    snake.Head.append(y1)\n",
        "    snake_List.append(snake_Head)\n",
        "    if len(snake_List)>Length_of_snake:\n",
        "      del snake_List[0]\n",
        "    for x in snake_List[:-1]:\n",
        "      if x == snake_Head:\n",
        "        game_close= True\n",
        "    our_snake(snake_block,snake_List)\n",
        "    thescore(Length_of_snake-1)\n",
        "    pygame.display.update()\n",
        "    if x1==foodx and y1== foody:\n",
        "      foodx= snake_block*random.randint(0,(dis_width/snake_block)-1)\n",
        "      foody= snake_block*random.randint(0,(dis_height/snake_block)-1)\n",
        "      Length_of_snake+=1\n",
        "    clock.tick(snake_speed)\n",
        "pygame.quit()"
      ],
      "metadata": {
        "id": "-eH1e4OT5QCI"
      },
      "execution_count": null,
      "outputs": []
    }
  ]
}